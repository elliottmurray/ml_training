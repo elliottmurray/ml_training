{
 "cells": [
  {
   "cell_type": "code",
   "execution_count": 55,
   "metadata": {},
   "outputs": [],
   "source": [
    "import csv\n",
    "import numpy as np\n",
    "from sklearn.cross_validation import train_test_split\n",
    "\n",
    "def read_file(file_name):\n",
    "    with open(file_name,'r') as dest_f:\n",
    "        data_iter = csv.reader(dest_f, \n",
    "                               delimiter = ',')\n",
    "        data = [data for data in data_iter]\n",
    "    return np.asarray(data)\n",
    "    \n",
    "train_data = read_file('./titanic_train.csv')\n",
    "X = train_data[1:, [2,6]]\n",
    "Y = train_data[1:, 1]\n",
    "\n",
    "X_train, X_test, Y_train, Y_test = train_test_split(X, Y, test_size = 0.25, random_state = 0)\n",
    "\n",
    "# print(X_train)\n",
    "# print(Y_test)"
   ]
  },
  {
   "cell_type": "code",
   "execution_count": 78,
   "metadata": {},
   "outputs": [
    {
     "ename": "ValueError",
     "evalue": "Expected 2D array, got 1D array instead:\narray=[ 2.  2.  2.  2.  1.  2.  2.  2.  1.  2.  2.  0.  2.  0.  1.  1.  2.  2.\n  0.  2.  1.  0.  2.  2.  2.  2.  2.  2.  2.  0.  1.  2.  2.  2.  2.  2.\n  2.  2.  2.  2.  0.  2.  2.  2.  0.  0.  0.  2.  0.  2.  1.  0.  2.  2.\n  2.  2.  2.  2.  2.  0.  0.  2.  2.  2.  2.  1.  0.  1.  1.  2.  1.  1.\n  1.  1.  0.  0.  1.  0.  2.  2.  1.  0.  2.  0.  2.  1.  2.  1.  2.  2.\n  2.  2.  0.  0.  2.  2.  2.  2.  2.  0.  1.  0.  2.  0.  2.  2.  2.  1.\n  2.  2.  1.  2.  2.  2.  0.  0.  2.  2.  0.  2.  1.  0.  0.  1.  1.  2.\n  0.  0.  1.  2.  2.  1.  2.  1.  2.  1.  2.  2.  0.  0.  0.  2.  0.  2.\n  2.  2.  0.  2.  2.  1.  0.  2.  0.  0.  2.  2.  2.  1.  2.  2.  2.  2.\n  2.  2.  2.  2.  2.  2.  0.  2.  2.  2.  0.  2.  1.  1.  1.  2.  0.  0.\n  0.  2.  2.  0.  2.  2.  2.  1.  2.  2.  2.  2.  1.  2.  0.  0.  0.  0.\n  2.  0.  2.  2.  2.  2.  1.  2.  2.  2.  2.  0.  1.  0.  2.  1.  1.  0.\n  2.  2.  1.  1.  0.  0.  2.  1.  1.  2.  2.  2.  1.  1.  2.  1.  1.  2.\n  2.  2.  0.  2.  2.  0.  2.  1.  0.  1.  2.  2.  0.  1.  0.  1.  0.  2.\n  1.  2.  2.  0.  2.  2.  1.  1.  2.  2.  2.  1.  2.  2.  2.  0.  2.  0.\n  0.  2.  2.  2.  0.  2.  2.  2.  2.  2.  0.  2.  2.  2.  1.  2.  2.  2.\n  2.  2.  2.  1.  0.  0.  0.  2.  2.  0.  2.  0.  1.  2.  2.  2.  1.  0.\n  2.  1.  1.  2.  1.  2.  1.  2.  0.  2.  0.  2.  0.  2.  2.  0.  2.  0.\n  2.  2.  2.  0.  2.  1.  0.  0.  1.  0.  2.  2.  1.  2.  1.  1.  0.  2.\n  0.  2.  2.  2.  1.  2.  0.  2.  1.  2.  1.  0.  2.  1.  2.  0.  2.  2.\n  2.  2.  2.  0.  1.  0.  2.  2.  2.  2.  2.  0.  0.  2.  0.  1.  1.  1.\n  2.  2.  0.  2.  2.  2.  2.  1.  2.  0.  1.  0.  1.  2.  2.  2.  1.  1.\n  2.  2.  2.  2.  2.  2.  2.  2.  2.  0.  2.  2.  0.  2.  1.  1.  2.  0.\n  1.  2.  2.  2.  0.  2.  2.  1.  0.  1.  0.  2.  0.  0.  2.  1.  2.  2.\n  2.  0.  2.  0.  1.  2.  2.  2.  0.  1.  2.  1.  0.  2.  2.  2.  1.  2.\n  2.  2.  2.  0.  0.  2.  2.  1.  2.  2.  2.  2.  2.  2.  2.  0.  2.  0.\n  2.  2.  0.  0.  0.  2.  2.  2.  2.  2.  0.  1.  1.  2.  0.  1.  2.  2.\n  0.  1.  2.  2.  2.  0.  2.  2.  0.  2.  1.  1.  0.  1.  2.  0.  2.  2.\n  2.  0.  1.  2.  0.  1.  2.  2.  2.  2.  2.  2.  2.  2.  0.  0.  0.  2.\n  2.  2.  0.  0.  1.  2.  2.  0.  1.  1.  2.  1.  0.  1.  2.  1.  1.  1.\n  2.  1.  0.  2.  2.  0.  2.  0.  0.  0.  0.  2.  2.  2.  2.  1.  1.  0.\n  0.  2.  2.  2.  1.  2.  2.  0.  0.  2.  0.  2.  1.  2.  0.  2.  2.  2.\n  0.  2.  1.  2.  2.  1.  0.  2.  2.  1.  2.  2.  0.  0.  2.  0.  2.  2.\n  0.  2.  2.  2.  2.  2.  2.  0.  2.  2.  0.  1.  2.  2.  0.  2.  1.  2.\n  2.  2.  0.  2.  1.  1.  0.  2.  2.  1.  1.  2.  2.  0.  2.  2.  0.  1.\n  2.  2.  2.  2.  2.  1.  2.  2.  1.  2.  0.  2.  0.  1.  0.  2.  1.  0.\n  1.  1.  2.  1.  1.  1.  0.  2.  1.  1.  1.  1.  2.  0.  0.  0.  2.  2.\n  2.  1.].\nReshape your data either using array.reshape(-1, 1) if your data has a single feature or array.reshape(1, -1) if it contains a single sample.",
     "output_type": "error",
     "traceback": [
      "\u001b[0;31m---------------------------------------------------------------------------\u001b[0m",
      "\u001b[0;31mValueError\u001b[0m                                Traceback (most recent call last)",
      "\u001b[0;32m<ipython-input-78-7fa774d50760>\u001b[0m in \u001b[0;36m<module>\u001b[0;34m()\u001b[0m\n\u001b[1;32m      4\u001b[0m \u001b[0mlabelencoder_x\u001b[0m \u001b[0;34m=\u001b[0m \u001b[0mLabelEncoder\u001b[0m\u001b[0;34m(\u001b[0m\u001b[0;34m)\u001b[0m\u001b[0;34m\u001b[0m\u001b[0m\n\u001b[1;32m      5\u001b[0m \u001b[0;34m\u001b[0m\u001b[0m\n\u001b[0;32m----> 6\u001b[0;31m \u001b[0mX_train\u001b[0m\u001b[0;34m[\u001b[0m\u001b[0;34m:\u001b[0m\u001b[0;34m,\u001b[0m \u001b[0;36m0\u001b[0m\u001b[0;34m]\u001b[0m \u001b[0;34m=\u001b[0m \u001b[0msc_X\u001b[0m\u001b[0;34m.\u001b[0m\u001b[0mfit_transform\u001b[0m\u001b[0;34m(\u001b[0m\u001b[0mX_train\u001b[0m\u001b[0;34m[\u001b[0m\u001b[0;34m:\u001b[0m\u001b[0;34m,\u001b[0m \u001b[0;36m0\u001b[0m\u001b[0;34m]\u001b[0m\u001b[0;34m)\u001b[0m\u001b[0;34m\u001b[0m\u001b[0m\n\u001b[0m\u001b[1;32m      7\u001b[0m \u001b[0mX_train\u001b[0m\u001b[0;34m[\u001b[0m\u001b[0;34m:\u001b[0m\u001b[0;34m,\u001b[0m \u001b[0;36m1\u001b[0m\u001b[0;34m]\u001b[0m \u001b[0;34m=\u001b[0m \u001b[0msc_X\u001b[0m\u001b[0;34m.\u001b[0m\u001b[0mfit_transform\u001b[0m\u001b[0;34m(\u001b[0m\u001b[0mX_train\u001b[0m\u001b[0;34m[\u001b[0m\u001b[0;34m:\u001b[0m\u001b[0;34m,\u001b[0m \u001b[0;36m1\u001b[0m\u001b[0;34m]\u001b[0m\u001b[0;34m)\u001b[0m\u001b[0;34m\u001b[0m\u001b[0m\n\u001b[1;32m      8\u001b[0m \u001b[0mX_test\u001b[0m\u001b[0;34m[\u001b[0m\u001b[0;34m:\u001b[0m\u001b[0;34m,\u001b[0m \u001b[0;36m0\u001b[0m\u001b[0;34m]\u001b[0m \u001b[0;34m=\u001b[0m \u001b[0msc_X\u001b[0m\u001b[0;34m.\u001b[0m\u001b[0mfit_transform\u001b[0m\u001b[0;34m(\u001b[0m\u001b[0mX_test\u001b[0m\u001b[0;34m[\u001b[0m\u001b[0;34m:\u001b[0m\u001b[0;34m,\u001b[0m \u001b[0;36m0\u001b[0m\u001b[0;34m]\u001b[0m\u001b[0;34m)\u001b[0m\u001b[0;34m\u001b[0m\u001b[0m\n",
      "\u001b[0;32m/opt/conda/lib/python3.6/site-packages/sklearn/base.py\u001b[0m in \u001b[0;36mfit_transform\u001b[0;34m(self, X, y, **fit_params)\u001b[0m\n\u001b[1;32m    515\u001b[0m         \u001b[0;32mif\u001b[0m \u001b[0my\u001b[0m \u001b[0;32mis\u001b[0m \u001b[0;32mNone\u001b[0m\u001b[0;34m:\u001b[0m\u001b[0;34m\u001b[0m\u001b[0m\n\u001b[1;32m    516\u001b[0m             \u001b[0;31m# fit method of arity 1 (unsupervised transformation)\u001b[0m\u001b[0;34m\u001b[0m\u001b[0;34m\u001b[0m\u001b[0m\n\u001b[0;32m--> 517\u001b[0;31m             \u001b[0;32mreturn\u001b[0m \u001b[0mself\u001b[0m\u001b[0;34m.\u001b[0m\u001b[0mfit\u001b[0m\u001b[0;34m(\u001b[0m\u001b[0mX\u001b[0m\u001b[0;34m,\u001b[0m \u001b[0;34m**\u001b[0m\u001b[0mfit_params\u001b[0m\u001b[0;34m)\u001b[0m\u001b[0;34m.\u001b[0m\u001b[0mtransform\u001b[0m\u001b[0;34m(\u001b[0m\u001b[0mX\u001b[0m\u001b[0;34m)\u001b[0m\u001b[0;34m\u001b[0m\u001b[0m\n\u001b[0m\u001b[1;32m    518\u001b[0m         \u001b[0;32melse\u001b[0m\u001b[0;34m:\u001b[0m\u001b[0;34m\u001b[0m\u001b[0m\n\u001b[1;32m    519\u001b[0m             \u001b[0;31m# fit method of arity 2 (supervised transformation)\u001b[0m\u001b[0;34m\u001b[0m\u001b[0;34m\u001b[0m\u001b[0m\n",
      "\u001b[0;32m/opt/conda/lib/python3.6/site-packages/sklearn/preprocessing/data.py\u001b[0m in \u001b[0;36mfit\u001b[0;34m(self, X, y)\u001b[0m\n\u001b[1;32m    588\u001b[0m         \u001b[0;31m# Reset internal state before fitting\u001b[0m\u001b[0;34m\u001b[0m\u001b[0;34m\u001b[0m\u001b[0m\n\u001b[1;32m    589\u001b[0m         \u001b[0mself\u001b[0m\u001b[0;34m.\u001b[0m\u001b[0m_reset\u001b[0m\u001b[0;34m(\u001b[0m\u001b[0;34m)\u001b[0m\u001b[0;34m\u001b[0m\u001b[0m\n\u001b[0;32m--> 590\u001b[0;31m         \u001b[0;32mreturn\u001b[0m \u001b[0mself\u001b[0m\u001b[0;34m.\u001b[0m\u001b[0mpartial_fit\u001b[0m\u001b[0;34m(\u001b[0m\u001b[0mX\u001b[0m\u001b[0;34m,\u001b[0m \u001b[0my\u001b[0m\u001b[0;34m)\u001b[0m\u001b[0;34m\u001b[0m\u001b[0m\n\u001b[0m\u001b[1;32m    591\u001b[0m \u001b[0;34m\u001b[0m\u001b[0m\n\u001b[1;32m    592\u001b[0m     \u001b[0;32mdef\u001b[0m \u001b[0mpartial_fit\u001b[0m\u001b[0;34m(\u001b[0m\u001b[0mself\u001b[0m\u001b[0;34m,\u001b[0m \u001b[0mX\u001b[0m\u001b[0;34m,\u001b[0m \u001b[0my\u001b[0m\u001b[0;34m=\u001b[0m\u001b[0;32mNone\u001b[0m\u001b[0;34m)\u001b[0m\u001b[0;34m:\u001b[0m\u001b[0;34m\u001b[0m\u001b[0m\n",
      "\u001b[0;32m/opt/conda/lib/python3.6/site-packages/sklearn/preprocessing/data.py\u001b[0m in \u001b[0;36mpartial_fit\u001b[0;34m(self, X, y)\u001b[0m\n\u001b[1;32m    610\u001b[0m         \"\"\"\n\u001b[1;32m    611\u001b[0m         X = check_array(X, accept_sparse=('csr', 'csc'), copy=self.copy,\n\u001b[0;32m--> 612\u001b[0;31m                         warn_on_dtype=True, estimator=self, dtype=FLOAT_DTYPES)\n\u001b[0m\u001b[1;32m    613\u001b[0m \u001b[0;34m\u001b[0m\u001b[0m\n\u001b[1;32m    614\u001b[0m         \u001b[0;31m# Even in the case of `with_mean=False`, we update the mean anyway\u001b[0m\u001b[0;34m\u001b[0m\u001b[0;34m\u001b[0m\u001b[0m\n",
      "\u001b[0;32m/opt/conda/lib/python3.6/site-packages/sklearn/utils/validation.py\u001b[0m in \u001b[0;36mcheck_array\u001b[0;34m(array, accept_sparse, dtype, order, copy, force_all_finite, ensure_2d, allow_nd, ensure_min_samples, ensure_min_features, warn_on_dtype, estimator)\u001b[0m\n\u001b[1;32m    439\u001b[0m                     \u001b[0;34m\"Reshape your data either using array.reshape(-1, 1) if \"\u001b[0m\u001b[0;34m\u001b[0m\u001b[0m\n\u001b[1;32m    440\u001b[0m                     \u001b[0;34m\"your data has a single feature or array.reshape(1, -1) \"\u001b[0m\u001b[0;34m\u001b[0m\u001b[0m\n\u001b[0;32m--> 441\u001b[0;31m                     \"if it contains a single sample.\".format(array))\n\u001b[0m\u001b[1;32m    442\u001b[0m             \u001b[0marray\u001b[0m \u001b[0;34m=\u001b[0m \u001b[0mnp\u001b[0m\u001b[0;34m.\u001b[0m\u001b[0matleast_2d\u001b[0m\u001b[0;34m(\u001b[0m\u001b[0marray\u001b[0m\u001b[0;34m)\u001b[0m\u001b[0;34m\u001b[0m\u001b[0m\n\u001b[1;32m    443\u001b[0m             \u001b[0;31m# To ensure that array flags are maintained\u001b[0m\u001b[0;34m\u001b[0m\u001b[0;34m\u001b[0m\u001b[0m\n",
      "\u001b[0;31mValueError\u001b[0m: Expected 2D array, got 1D array instead:\narray=[ 2.  2.  2.  2.  1.  2.  2.  2.  1.  2.  2.  0.  2.  0.  1.  1.  2.  2.\n  0.  2.  1.  0.  2.  2.  2.  2.  2.  2.  2.  0.  1.  2.  2.  2.  2.  2.\n  2.  2.  2.  2.  0.  2.  2.  2.  0.  0.  0.  2.  0.  2.  1.  0.  2.  2.\n  2.  2.  2.  2.  2.  0.  0.  2.  2.  2.  2.  1.  0.  1.  1.  2.  1.  1.\n  1.  1.  0.  0.  1.  0.  2.  2.  1.  0.  2.  0.  2.  1.  2.  1.  2.  2.\n  2.  2.  0.  0.  2.  2.  2.  2.  2.  0.  1.  0.  2.  0.  2.  2.  2.  1.\n  2.  2.  1.  2.  2.  2.  0.  0.  2.  2.  0.  2.  1.  0.  0.  1.  1.  2.\n  0.  0.  1.  2.  2.  1.  2.  1.  2.  1.  2.  2.  0.  0.  0.  2.  0.  2.\n  2.  2.  0.  2.  2.  1.  0.  2.  0.  0.  2.  2.  2.  1.  2.  2.  2.  2.\n  2.  2.  2.  2.  2.  2.  0.  2.  2.  2.  0.  2.  1.  1.  1.  2.  0.  0.\n  0.  2.  2.  0.  2.  2.  2.  1.  2.  2.  2.  2.  1.  2.  0.  0.  0.  0.\n  2.  0.  2.  2.  2.  2.  1.  2.  2.  2.  2.  0.  1.  0.  2.  1.  1.  0.\n  2.  2.  1.  1.  0.  0.  2.  1.  1.  2.  2.  2.  1.  1.  2.  1.  1.  2.\n  2.  2.  0.  2.  2.  0.  2.  1.  0.  1.  2.  2.  0.  1.  0.  1.  0.  2.\n  1.  2.  2.  0.  2.  2.  1.  1.  2.  2.  2.  1.  2.  2.  2.  0.  2.  0.\n  0.  2.  2.  2.  0.  2.  2.  2.  2.  2.  0.  2.  2.  2.  1.  2.  2.  2.\n  2.  2.  2.  1.  0.  0.  0.  2.  2.  0.  2.  0.  1.  2.  2.  2.  1.  0.\n  2.  1.  1.  2.  1.  2.  1.  2.  0.  2.  0.  2.  0.  2.  2.  0.  2.  0.\n  2.  2.  2.  0.  2.  1.  0.  0.  1.  0.  2.  2.  1.  2.  1.  1.  0.  2.\n  0.  2.  2.  2.  1.  2.  0.  2.  1.  2.  1.  0.  2.  1.  2.  0.  2.  2.\n  2.  2.  2.  0.  1.  0.  2.  2.  2.  2.  2.  0.  0.  2.  0.  1.  1.  1.\n  2.  2.  0.  2.  2.  2.  2.  1.  2.  0.  1.  0.  1.  2.  2.  2.  1.  1.\n  2.  2.  2.  2.  2.  2.  2.  2.  2.  0.  2.  2.  0.  2.  1.  1.  2.  0.\n  1.  2.  2.  2.  0.  2.  2.  1.  0.  1.  0.  2.  0.  0.  2.  1.  2.  2.\n  2.  0.  2.  0.  1.  2.  2.  2.  0.  1.  2.  1.  0.  2.  2.  2.  1.  2.\n  2.  2.  2.  0.  0.  2.  2.  1.  2.  2.  2.  2.  2.  2.  2.  0.  2.  0.\n  2.  2.  0.  0.  0.  2.  2.  2.  2.  2.  0.  1.  1.  2.  0.  1.  2.  2.\n  0.  1.  2.  2.  2.  0.  2.  2.  0.  2.  1.  1.  0.  1.  2.  0.  2.  2.\n  2.  0.  1.  2.  0.  1.  2.  2.  2.  2.  2.  2.  2.  2.  0.  0.  0.  2.\n  2.  2.  0.  0.  1.  2.  2.  0.  1.  1.  2.  1.  0.  1.  2.  1.  1.  1.\n  2.  1.  0.  2.  2.  0.  2.  0.  0.  0.  0.  2.  2.  2.  2.  1.  1.  0.\n  0.  2.  2.  2.  1.  2.  2.  0.  0.  2.  0.  2.  1.  2.  0.  2.  2.  2.\n  0.  2.  1.  2.  2.  1.  0.  2.  2.  1.  2.  2.  0.  0.  2.  0.  2.  2.\n  0.  2.  2.  2.  2.  2.  2.  0.  2.  2.  0.  1.  2.  2.  0.  2.  1.  2.\n  2.  2.  0.  2.  1.  1.  0.  2.  2.  1.  1.  2.  2.  0.  2.  2.  0.  1.\n  2.  2.  2.  2.  2.  1.  2.  2.  1.  2.  0.  2.  0.  1.  0.  2.  1.  0.\n  1.  1.  2.  1.  1.  1.  0.  2.  1.  1.  1.  1.  2.  0.  0.  0.  2.  2.\n  2.  1.].\nReshape your data either using array.reshape(-1, 1) if your data has a single feature or array.reshape(1, -1) if it contains a single sample."
     ]
    }
   ],
   "source": [
    "from sklearn.preprocessing import LabelEncoder, StandardScaler\n",
    "sc_X = StandardScaler()\n",
    "\n",
    "labelencoder_x = LabelEncoder()\n",
    "\n",
    "\n",
    "X_train[:, 0] = sc_X.fit_transform(X_train[:, 0])\n",
    "X_train[:, 1] = sc_X.fit_transform(X_train[:, 1])\n",
    "X_test[:, 0] = sc_X.fit_transform(X_test[:, 0])\n",
    "X_test[:, 1] = sc_X.fit_transform(X_test[:, 1])\n",
    "\n",
    "X_train[:, 0] = sc_X.fit_transform(X_train[:, 0])\n",
    "X_train[:, 1] = sc_X.fit_transform(X_train[:, 1])\n",
    "X_test[:, 0] = sc_X.fit_transform(X_test[:, 0])\n",
    "X_test[:, 1] = sc_X.fit_transform(X_test[:, 1])\n",
    "\n",
    "\n",
    "#sc_X.fit_transform(X_train)\n",
    "\n",
    "# Y_train = train_data[1:, 1]\n",
    "# Y_test = test_data[1:, 1]\n",
    "\n",
    "\n",
    "print(X_train[3, :])\n",
    "print(X_test[3, :])"
   ]
  },
  {
   "cell_type": "code",
   "execution_count": 76,
   "metadata": {},
   "outputs": [
    {
     "data": {
      "text/plain": [
       "LogisticRegression(C=1.0, class_weight=None, dual=False, fit_intercept=True,\n",
       "          intercept_scaling=1, max_iter=100, multi_class='ovr', n_jobs=1,\n",
       "          penalty='l2', random_state=0, solver='liblinear', tol=0.0001,\n",
       "          verbose=0, warm_start=False)"
      ]
     },
     "execution_count": 76,
     "metadata": {},
     "output_type": "execute_result"
    }
   ],
   "source": [
    "from sklearn.linear_model import LogisticRegression\n",
    "classifier = LogisticRegression(random_state = 0)\n",
    "classifier.fit(X_train, Y_train)"
   ]
  },
  {
   "cell_type": "code",
   "execution_count": 72,
   "metadata": {},
   "outputs": [
    {
     "ename": "TypeError",
     "evalue": "Cannot cast array data from dtype('float64') to dtype('<U32') according to the rule 'safe'",
     "output_type": "error",
     "traceback": [
      "\u001b[0;31m---------------------------------------------------------------------------\u001b[0m",
      "\u001b[0;31mTypeError\u001b[0m                                 Traceback (most recent call last)",
      "\u001b[0;32m<ipython-input-72-98b6155475d6>\u001b[0m in \u001b[0;36m<module>\u001b[0;34m()\u001b[0m\n\u001b[1;32m      1\u001b[0m \u001b[0;32mfrom\u001b[0m \u001b[0msklearn\u001b[0m\u001b[0;34m.\u001b[0m\u001b[0mmetrics\u001b[0m \u001b[0;32mimport\u001b[0m \u001b[0maccuracy_score\u001b[0m\u001b[0;34m,\u001b[0m \u001b[0mcohen_kappa_score\u001b[0m\u001b[0;34m\u001b[0m\u001b[0m\n\u001b[0;32m----> 2\u001b[0;31m \u001b[0my_pred\u001b[0m \u001b[0;34m=\u001b[0m \u001b[0mclassifier\u001b[0m\u001b[0;34m.\u001b[0m\u001b[0mpredict\u001b[0m\u001b[0;34m(\u001b[0m\u001b[0mX_test\u001b[0m\u001b[0;34m)\u001b[0m\u001b[0;34m\u001b[0m\u001b[0m\n\u001b[0m\u001b[1;32m      3\u001b[0m \u001b[0macc\u001b[0m \u001b[0;34m=\u001b[0m \u001b[0maccuracy_score\u001b[0m\u001b[0;34m(\u001b[0m\u001b[0my_test\u001b[0m\u001b[0;34m,\u001b[0m \u001b[0my_pred\u001b[0m\u001b[0;34m)\u001b[0m \u001b[0;34m*\u001b[0m \u001b[0;36m100\u001b[0m\u001b[0;34m\u001b[0m\u001b[0m\n",
      "\u001b[0;32m/opt/conda/lib/python3.6/site-packages/sklearn/linear_model/base.py\u001b[0m in \u001b[0;36mpredict\u001b[0;34m(self, X)\u001b[0m\n\u001b[1;32m    322\u001b[0m             \u001b[0mPredicted\u001b[0m \u001b[0;32mclass\u001b[0m \u001b[0mlabel\u001b[0m \u001b[0mper\u001b[0m \u001b[0msample\u001b[0m\u001b[0;34m.\u001b[0m\u001b[0;34m\u001b[0m\u001b[0m\n\u001b[1;32m    323\u001b[0m         \"\"\"\n\u001b[0;32m--> 324\u001b[0;31m         \u001b[0mscores\u001b[0m \u001b[0;34m=\u001b[0m \u001b[0mself\u001b[0m\u001b[0;34m.\u001b[0m\u001b[0mdecision_function\u001b[0m\u001b[0;34m(\u001b[0m\u001b[0mX\u001b[0m\u001b[0;34m)\u001b[0m\u001b[0;34m\u001b[0m\u001b[0m\n\u001b[0m\u001b[1;32m    325\u001b[0m         \u001b[0;32mif\u001b[0m \u001b[0mlen\u001b[0m\u001b[0;34m(\u001b[0m\u001b[0mscores\u001b[0m\u001b[0;34m.\u001b[0m\u001b[0mshape\u001b[0m\u001b[0;34m)\u001b[0m \u001b[0;34m==\u001b[0m \u001b[0;36m1\u001b[0m\u001b[0;34m:\u001b[0m\u001b[0;34m\u001b[0m\u001b[0m\n\u001b[1;32m    326\u001b[0m             \u001b[0mindices\u001b[0m \u001b[0;34m=\u001b[0m \u001b[0;34m(\u001b[0m\u001b[0mscores\u001b[0m \u001b[0;34m>\u001b[0m \u001b[0;36m0\u001b[0m\u001b[0;34m)\u001b[0m\u001b[0;34m.\u001b[0m\u001b[0mastype\u001b[0m\u001b[0;34m(\u001b[0m\u001b[0mnp\u001b[0m\u001b[0;34m.\u001b[0m\u001b[0mint\u001b[0m\u001b[0;34m)\u001b[0m\u001b[0;34m\u001b[0m\u001b[0m\n",
      "\u001b[0;32m/opt/conda/lib/python3.6/site-packages/sklearn/linear_model/base.py\u001b[0m in \u001b[0;36mdecision_function\u001b[0;34m(self, X)\u001b[0m\n\u001b[1;32m    306\u001b[0m \u001b[0;34m\u001b[0m\u001b[0m\n\u001b[1;32m    307\u001b[0m         scores = safe_sparse_dot(X, self.coef_.T,\n\u001b[0;32m--> 308\u001b[0;31m                                  dense_output=True) + self.intercept_\n\u001b[0m\u001b[1;32m    309\u001b[0m         \u001b[0;32mreturn\u001b[0m \u001b[0mscores\u001b[0m\u001b[0;34m.\u001b[0m\u001b[0mravel\u001b[0m\u001b[0;34m(\u001b[0m\u001b[0;34m)\u001b[0m \u001b[0;32mif\u001b[0m \u001b[0mscores\u001b[0m\u001b[0;34m.\u001b[0m\u001b[0mshape\u001b[0m\u001b[0;34m[\u001b[0m\u001b[0;36m1\u001b[0m\u001b[0;34m]\u001b[0m \u001b[0;34m==\u001b[0m \u001b[0;36m1\u001b[0m \u001b[0;32melse\u001b[0m \u001b[0mscores\u001b[0m\u001b[0;34m\u001b[0m\u001b[0m\n\u001b[1;32m    310\u001b[0m \u001b[0;34m\u001b[0m\u001b[0m\n",
      "\u001b[0;32m/opt/conda/lib/python3.6/site-packages/sklearn/utils/extmath.py\u001b[0m in \u001b[0;36msafe_sparse_dot\u001b[0;34m(a, b, dense_output)\u001b[0m\n\u001b[1;32m    138\u001b[0m         \u001b[0;32mreturn\u001b[0m \u001b[0mret\u001b[0m\u001b[0;34m\u001b[0m\u001b[0m\n\u001b[1;32m    139\u001b[0m     \u001b[0;32melse\u001b[0m\u001b[0;34m:\u001b[0m\u001b[0;34m\u001b[0m\u001b[0m\n\u001b[0;32m--> 140\u001b[0;31m         \u001b[0;32mreturn\u001b[0m \u001b[0mnp\u001b[0m\u001b[0;34m.\u001b[0m\u001b[0mdot\u001b[0m\u001b[0;34m(\u001b[0m\u001b[0ma\u001b[0m\u001b[0;34m,\u001b[0m \u001b[0mb\u001b[0m\u001b[0;34m)\u001b[0m\u001b[0;34m\u001b[0m\u001b[0m\n\u001b[0m\u001b[1;32m    141\u001b[0m \u001b[0;34m\u001b[0m\u001b[0m\n\u001b[1;32m    142\u001b[0m \u001b[0;34m\u001b[0m\u001b[0m\n",
      "\u001b[0;31mTypeError\u001b[0m: Cannot cast array data from dtype('float64') to dtype('<U32') according to the rule 'safe'"
     ]
    }
   ],
   "source": [
    "from sklearn.metrics import accuracy_score, cohen_kappa_score\n",
    "y_pred = classifier.predict(X_test)\n",
    "acc = accuracy_score(y_test, y_pred) * 100   \n"
   ]
  },
  {
   "cell_type": "code",
   "execution_count": null,
   "metadata": {
    "collapsed": true
   },
   "outputs": [],
   "source": []
  }
 ],
 "metadata": {
  "kernelspec": {
   "display_name": "Python 3",
   "language": "python",
   "name": "python3"
  },
  "language_info": {
   "codemirror_mode": {
    "name": "ipython",
    "version": 3
   },
   "file_extension": ".py",
   "mimetype": "text/x-python",
   "name": "python",
   "nbconvert_exporter": "python",
   "pygments_lexer": "ipython3",
   "version": "3.6.3"
  }
 },
 "nbformat": 4,
 "nbformat_minor": 2
}
